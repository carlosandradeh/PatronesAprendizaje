{
  "nbformat": 4,
  "nbformat_minor": 0,
  "metadata": {
    "colab": {
      "provenance": []
    },
    "kernelspec": {
      "name": "python3",
      "display_name": "Python 3"
    },
    "language_info": {
      "name": "python"
    }
  },
  "cells": [
    {
      "cell_type": "code",
      "source": [
        "from keras.datasets import mnist\n",
        "import numpy as np\n",
        "\n",
        "# Cargamos los datos para el entrenamiento y para el test\n",
        "# X son las imagenes\n",
        "# Y son las etiquetas de las imagenes\n",
        "(x_train, y_train), (x_test, y_test) = mnist.load_data()\n",
        "\n",
        "# Sacamos los indices de elementos que las etiquetas sean 5\n",
        "idx_y_train_5 = np.where(y_train == 5)[0]\n",
        "# sacamos los indices de elementos que las etiquetas sean 5\n",
        "idx_y_train_n5 = np.where(y_train != 5)[0]\n",
        "# Hacemos que el numero de indices de las etiquetas que no sean 5 sean de las misma cantidad que los que si\n",
        "idx_y_train_n5 = np.random.choice(idx_y_train_n5, idx_y_train_5.shape[0], replace=False)\n",
        "# Jutamos los indices de las etiquetas de las imagenes que si son 5 con las que no\n",
        "idx_y_train = np.concatenate([idx_y_train_5, idx_y_train_n5])\n",
        "# Mezclamos indistrinadamente los indices de las etiquetas\n",
        "np.random.shuffle(idx_y_train)\n",
        "# Reordenamos los elementos deacuerdo a los indices que acabamos de sacar\n",
        "x_train = x_train[idx_y_train]\n",
        "y_train = y_train[idx_y_train]\n",
        "print(x_train.shape)\n",
        "\n",
        "idx_y_test_5 = np.where(y_test == 5)[0]\n",
        "idx_y_test_n5 = np.where(y_test != 5)[0]\n",
        "idx_y_test_n5 = np.random.choice(idx_y_test_n5, idx_y_test_5.shape[0], replace=False)\n",
        "\n",
        "idx_y_test = np.concatenate([idx_y_test_5, idx_y_test_n5])\n",
        "np.random.shuffle(idx_y_test)\n",
        "\n",
        "x_test = x_test[idx_y_test]\n",
        "y_test = y_test[idx_y_test]\n",
        "print(x_test.shape)\n",
        "\n",
        "y_train_binary = (y_train == 5).astype(int)\n",
        "y_test_binary = (y_test == 5).astype(int)"
      ],
      "metadata": {
        "id": "50CNad4MEsHq",
        "colab": {
          "base_uri": "https://localhost:8080/"
        },
        "outputId": "f20a91d7-efc3-40eb-82f4-a5e1dd0fdeaa"
      },
      "execution_count": 37,
      "outputs": [
        {
          "output_type": "stream",
          "name": "stdout",
          "text": [
            "(10842, 28, 28)\n",
            "(1784, 28, 28)\n"
          ]
        }
      ]
    },
    {
      "cell_type": "code",
      "source": [
        "from keras.models import Sequential\n",
        "from keras.layers import Flatten, Dense\n",
        "from keras.metrics import F1Score\n",
        "\n",
        "model = Sequential([\n",
        "    Flatten(input_shape=(28, 28)),\n",
        "    Dense(1)\n",
        "])\n",
        "\n",
        "print(model.summary())\n",
        "\n",
        "model.compile(loss='binary_crossentropy', metrics=['accuracy'])\n",
        "model.fit(x_train, y_train_binary, epochs=4, batch_size=2000, validation_split=0.9)"
      ],
      "metadata": {
        "id": "3aBy0CQvHcT9",
        "colab": {
          "base_uri": "https://localhost:8080/"
        },
        "outputId": "c851cbfa-7f19-4ad1-90ea-6533b628bf51"
      },
      "execution_count": 70,
      "outputs": [
        {
          "output_type": "stream",
          "name": "stdout",
          "text": [
            "Model: \"sequential_27\"\n",
            "_________________________________________________________________\n",
            " Layer (type)                Output Shape              Param #   \n",
            "=================================================================\n",
            " flatten_27 (Flatten)        (None, 784)               0         \n",
            "                                                                 \n",
            " dense_27 (Dense)            (None, 1)                 785       \n",
            "                                                                 \n",
            "=================================================================\n",
            "Total params: 785 (3.07 KB)\n",
            "Trainable params: 785 (3.07 KB)\n",
            "Non-trainable params: 0 (0.00 Byte)\n",
            "_________________________________________________________________\n",
            "None\n",
            "Epoch 1/35\n",
            "347/347 [==============================] - 2s 4ms/step - loss: 6.3287 - accuracy: 0.5848 - val_loss: 4.8747 - val_accuracy: 0.6814\n",
            "Epoch 2/35\n",
            "347/347 [==============================] - 1s 2ms/step - loss: 4.8225 - accuracy: 0.6842 - val_loss: 4.7637 - val_accuracy: 0.6860\n",
            "Epoch 3/35\n",
            "347/347 [==============================] - 1s 2ms/step - loss: 4.0426 - accuracy: 0.7350 - val_loss: 3.6509 - val_accuracy: 0.7612\n",
            "Epoch 4/35\n",
            "347/347 [==============================] - 1s 2ms/step - loss: 3.3155 - accuracy: 0.7824 - val_loss: 3.2035 - val_accuracy: 0.7902\n",
            "Epoch 5/35\n",
            "347/347 [==============================] - 1s 3ms/step - loss: 3.0767 - accuracy: 0.7983 - val_loss: 3.6912 - val_accuracy: 0.7584\n",
            "Epoch 6/35\n",
            "347/347 [==============================] - 1s 3ms/step - loss: 3.1892 - accuracy: 0.7912 - val_loss: 3.2817 - val_accuracy: 0.7847\n",
            "Epoch 7/35\n",
            "347/347 [==============================] - 1s 2ms/step - loss: 2.7001 - accuracy: 0.8231 - val_loss: 2.6537 - val_accuracy: 0.8266\n",
            "Epoch 8/35\n",
            "347/347 [==============================] - 1s 2ms/step - loss: 2.6362 - accuracy: 0.8266 - val_loss: 2.7541 - val_accuracy: 0.8197\n",
            "Epoch 9/35\n",
            "347/347 [==============================] - 1s 2ms/step - loss: 2.5364 - accuracy: 0.8340 - val_loss: 2.6507 - val_accuracy: 0.8271\n",
            "Epoch 10/35\n",
            "347/347 [==============================] - 1s 2ms/step - loss: 2.4349 - accuracy: 0.8411 - val_loss: 2.3622 - val_accuracy: 0.8465\n",
            "Epoch 11/35\n",
            "347/347 [==============================] - 1s 2ms/step - loss: 2.2696 - accuracy: 0.8513 - val_loss: 2.1750 - val_accuracy: 0.8571\n",
            "Epoch 12/35\n",
            "347/347 [==============================] - 1s 2ms/step - loss: 2.2824 - accuracy: 0.8506 - val_loss: 2.2245 - val_accuracy: 0.8548\n",
            "Epoch 13/35\n",
            "347/347 [==============================] - 1s 2ms/step - loss: 2.1383 - accuracy: 0.8604 - val_loss: 2.3205 - val_accuracy: 0.8483\n",
            "Epoch 14/35\n",
            "347/347 [==============================] - 1s 2ms/step - loss: 2.2851 - accuracy: 0.8508 - val_loss: 2.4286 - val_accuracy: 0.8414\n",
            "Epoch 15/35\n",
            "347/347 [==============================] - 1s 2ms/step - loss: 2.2285 - accuracy: 0.8544 - val_loss: 2.0605 - val_accuracy: 0.8654\n",
            "Epoch 16/35\n",
            "347/347 [==============================] - 1s 2ms/step - loss: 2.0960 - accuracy: 0.8631 - val_loss: 2.1529 - val_accuracy: 0.8598\n",
            "Epoch 17/35\n",
            "347/347 [==============================] - 1s 2ms/step - loss: 2.3442 - accuracy: 0.8471 - val_loss: 2.0657 - val_accuracy: 0.8645\n",
            "Epoch 18/35\n",
            "347/347 [==============================] - 1s 2ms/step - loss: 2.0401 - accuracy: 0.8668 - val_loss: 2.2443 - val_accuracy: 0.8534\n",
            "Epoch 19/35\n",
            "347/347 [==============================] - 1s 2ms/step - loss: 2.3070 - accuracy: 0.8492 - val_loss: 3.0934 - val_accuracy: 0.7990\n",
            "Epoch 20/35\n",
            "347/347 [==============================] - 1s 2ms/step - loss: 2.3391 - accuracy: 0.8472 - val_loss: 2.0889 - val_accuracy: 0.8635\n",
            "Epoch 21/35\n",
            "347/347 [==============================] - 1s 3ms/step - loss: 2.0352 - accuracy: 0.8672 - val_loss: 2.0316 - val_accuracy: 0.8677\n",
            "Epoch 22/35\n",
            "347/347 [==============================] - 1s 3ms/step - loss: 2.0623 - accuracy: 0.8653 - val_loss: 1.9070 - val_accuracy: 0.8755\n",
            "Epoch 23/35\n",
            "347/347 [==============================] - 1s 3ms/step - loss: 2.0997 - accuracy: 0.8622 - val_loss: 2.9621 - val_accuracy: 0.8054\n",
            "Epoch 24/35\n",
            "347/347 [==============================] - 1s 4ms/step - loss: 2.2108 - accuracy: 0.8552 - val_loss: 2.3865 - val_accuracy: 0.8432\n",
            "Epoch 25/35\n",
            "347/347 [==============================] - 1s 3ms/step - loss: 1.9600 - accuracy: 0.8722 - val_loss: 2.0588 - val_accuracy: 0.8649\n",
            "Epoch 26/35\n",
            "347/347 [==============================] - 1s 4ms/step - loss: 1.8911 - accuracy: 0.8761 - val_loss: 2.0580 - val_accuracy: 0.8663\n",
            "Epoch 27/35\n",
            "347/347 [==============================] - 1s 4ms/step - loss: 1.8836 - accuracy: 0.8770 - val_loss: 1.8792 - val_accuracy: 0.8774\n",
            "Epoch 28/35\n",
            "347/347 [==============================] - 1s 3ms/step - loss: 1.8512 - accuracy: 0.8787 - val_loss: 1.8740 - val_accuracy: 0.8769\n",
            "Epoch 29/35\n",
            "347/347 [==============================] - 1s 2ms/step - loss: 1.8349 - accuracy: 0.8795 - val_loss: 1.8059 - val_accuracy: 0.8815\n",
            "Epoch 30/35\n",
            "347/347 [==============================] - 1s 2ms/step - loss: 1.9423 - accuracy: 0.8729 - val_loss: 2.3367 - val_accuracy: 0.8483\n",
            "Epoch 31/35\n",
            "347/347 [==============================] - 1s 2ms/step - loss: 1.8190 - accuracy: 0.8811 - val_loss: 1.8261 - val_accuracy: 0.8811\n",
            "Epoch 32/35\n",
            "347/347 [==============================] - 1s 3ms/step - loss: 1.8220 - accuracy: 0.8812 - val_loss: 1.9441 - val_accuracy: 0.8728\n",
            "Epoch 33/35\n",
            "347/347 [==============================] - 1s 4ms/step - loss: 2.2265 - accuracy: 0.8548 - val_loss: 1.9376 - val_accuracy: 0.8732\n",
            "Epoch 34/35\n",
            "347/347 [==============================] - 1s 3ms/step - loss: 1.8882 - accuracy: 0.8766 - val_loss: 1.8342 - val_accuracy: 0.8792\n",
            "Epoch 35/35\n",
            "347/347 [==============================] - 1s 4ms/step - loss: 1.8781 - accuracy: 0.8771 - val_loss: 1.9917 - val_accuracy: 0.8700\n"
          ]
        },
        {
          "output_type": "execute_result",
          "data": {
            "text/plain": [
              "<keras.src.callbacks.History at 0x7b59c75f58d0>"
            ]
          },
          "metadata": {},
          "execution_count": 70
        }
      ]
    },
    {
      "cell_type": "code",
      "source": [
        "from sklearn.metrics import confusion_matrix, \\\n",
        "precision_score, recall_score,f1_score\n",
        "\n",
        "y_pred = (model.predict(x_test) >= 0.5).astype(int)[:,0]\n",
        "\n",
        "conf_matrix = confusion_matrix(y_test_binary, y_pred)\n",
        "print(\"Matriz de confusión:\")\n",
        "print(conf_matrix)\n",
        "\n",
        "precision = precision_score(y_test_binary, y_pred)\n",
        "print(\"Precision_1:\", precision)\n",
        "recall = recall_score(y_test_binary, y_pred)\n",
        "print(\"Recall_1:\", recall)\n",
        "f1_s = f1_score(y_test_binary, y_pred)\n",
        "print(\"F1-score_1:\", f1_s)\n",
        "\n",
        "\n",
        "precision_0 = precision_score(y_test_binary, y_pred, pos_label=0)\n",
        "print(\"Precision_0:\", precision_0)\n",
        "recall_0 = recall_score(y_test_binary, y_pred, pos_label=0)\n",
        "print(\"Recall_0:\", recall_0)\n",
        "f1_s_0 = f1_score(y_test_binary, y_pred, pos_label=0)\n",
        "print(\"F1-score_0:\", f1_s_0)"
      ],
      "metadata": {
        "id": "Bcb43x96H6xD",
        "colab": {
          "base_uri": "https://localhost:8080/"
        },
        "outputId": "98eed2fd-6862-4f6e-93f5-cb3c530c3f5e"
      },
      "execution_count": 69,
      "outputs": [
        {
          "output_type": "stream",
          "name": "stdout",
          "text": [
            "56/56 [==============================] - 0s 1ms/step\n",
            "Matriz de confusión:\n",
            "[[780 112]\n",
            " [ 94 798]]\n",
            "Precision_1: 0.8769230769230769\n",
            "Recall_1: 0.8946188340807175\n",
            "F1-score_1: 0.8856825749167592\n",
            "Precision_0: 0.8924485125858124\n",
            "Recall_0: 0.874439461883408\n",
            "F1-score_0: 0.883352208380521\n"
          ]
        }
      ]
    },
    {
      "cell_type": "markdown",
      "source": [
        "*epochs=4, batch_size=2, validation_split=0.9*\n",
        "- Matriz de confusión:\n",
        "[[424 468]\n",
        " [148 744]]\n",
        "- Precision_1: 0.6138613861386139\n",
        "- Recall_1: 0.8340807174887892\n",
        "- F1-score_1: 0.7072243346007604\n",
        "- Precision_0: 0.7412587412587412\n",
        "- Recall_0: 0.47533632286995514\n",
        "- F1-score_0: 0.5792349726775956\n",
        "- Accurancy: 0.6547085"
      ],
      "metadata": {
        "id": "6nzsAI8iEXb8"
      }
    },
    {
      "cell_type": "markdown",
      "source": [
        "*epochs=4, batch_size=2000, validation_split=0.9*\n",
        "- Matriz de confusión:\n",
        "[[141 751]\n",
        " [331 561]]\n",
        "- Precision_1: 0.42759146341463417\n",
        "- Recall_1: 0.6289237668161435\n",
        "- F1-score_1: 0.5090744101633394\n",
        "- Precision_0: 0.298728813559322\n",
        "- Recall_0: 0.15807174887892378\n",
        "- F1-score_0: 0.20674486803519063\n",
        "- Accurancy: 0.39349"
      ],
      "metadata": {
        "id": "-Yz59Y1PDhlY"
      }
    },
    {
      "cell_type": "markdown",
      "source": [
        "*epochs=20, batchsize=2000, validationsplit=0.9*\n",
        "- Matriz de confusión:\n",
        "[[878  14]\n",
        " [864  28]]\n",
        "- Precision_1: 0.6666666666666666\n",
        "- Recall_1: 0.03139013452914798\n",
        "- F1-score_1: 0.05995717344753748\n",
        "- Precision_0: 0.5040183696900115\n",
        "- Recall_0: 0.984304932735426\n",
        "- F1-score_0: 0.6666666666666666\n",
        "- Accurancy: 0.50784"
      ],
      "metadata": {
        "id": "EBau032YCWSj"
      }
    },
    {
      "cell_type": "markdown",
      "source": [
        "*epochs=4, batch_size=2000, validation_split=0.01*\n",
        "- Matriz de confusión:\n",
        "[[171 721]\n",
        " [149 743]]\n",
        "- Precision_1: 0.5075136612021858\n",
        "- Recall_1: 0.8329596412556054\n",
        "- F1-score_1: 0.6307300509337861\n",
        "- Precision_0: 0.534375\n",
        "- Recall_0: 0.19170403587443946\n",
        "- F1-score_0: 0.28217821782178215"
      ],
      "metadata": {
        "id": "YUTUhnSkAyIT"
      }
    },
    {
      "cell_type": "markdown",
      "source": [
        "## configuración de estos hiperparámetros que optimice las métricas,"
      ],
      "metadata": {
        "id": "UIuLimZecmrW"
      }
    },
    {
      "cell_type": "code",
      "source": [
        "from keras.models import Sequential\n",
        "from keras.layers import Flatten, Dense\n",
        "from sklearn.metrics import confusion_matrix, precision_score, recall_score, f1_score\n",
        "import numpy as np\n",
        "\n",
        "# Definir el modelo\n",
        "model = Sequential([\n",
        "    Flatten(input_shape=(28, 28)),\n",
        "    Dense(1, activation='sigmoid')  ,
        "])\n",
        "\n",
        "print(model.summary())\n",
        "\n",
        "model.compile(loss='binary_crossentropy', metrics=['accuracy'])\n",
        "model.fit(x_train, y_train_binary, epochs=35, batch_size=25, validation_split=0.2)\n",
        "\n",
        "# Predecir en el conjunto de prueba\n",
        "y_pred = (model.predict(x_test) >= 0.5).astype(int)\n",
        "\n",
        "# Calcular métricas\n",
        "conf_matrix = confusion_matrix(y_test_binary, y_pred)\n",
        "print(\"Matriz de confusión:\")\n",
        "print(conf_matrix)\n",
        "\n",
        "precision = precision_score(y_test_binary, y_pred)\n",
        "print(\"Precision_1:\", precision)\n",
        "\n",
        "recall = recall_score(y_test_binary, y_pred)\n",
        "print(\"Recall_1:\", recall)\n",
        "\n",
        "f1_s = f1_score(y_test_binary, y_pred)\n",
        "print(\"F1-score_1:\", f1_s)\n",
        "\n",
        "# Calcular métricas para la clase 0\n",
        "precision_0 = precision_score(y_test_binary, y_pred, pos_label=0)\n",
        "print(\"Precision_0:\", precision_0)\n",
        "\n",
        "recall_0 = recall_score(y_test_binary, y_pred, pos_label=0)\n",
        "print(\"Recall_0:\", recall_0)\n",
        "\n",
        "f1_s_0 = f1_score(y_test_binary, y_pred, pos_label=0)\n",
        "print(\"F1-score_0:\", f1_s_0)\n"
      ],
      "metadata": {
        "colab": {
          "base_uri": "https://localhost:8080/"
        },
        "id": "qqQ5GM_PcdRO",
        "outputId": "4f5aec86-bf73-47e4-90d0-be633abded58"
      },
      "execution_count": 74,
      "outputs": [
        {
          "output_type": "stream",
          "name": "stdout",
          "text": [
            "Model: \"sequential_30\"\n",
            "_________________________________________________________________\n",
            " Layer (type)                Output Shape              Param #   \n",
            "=================================================================\n",
            " flatten_30 (Flatten)        (None, 784)               0         \n",
            "                                                                 \n",
            " dense_30 (Dense)            (None, 1)                 785       \n",
            "                                                                 \n",
            "=================================================================\n",
            "Total params: 785 (3.07 KB)\n",
            "Trainable params: 785 (3.07 KB)\n",
            "Non-trainable params: 0 (0.00 Byte)\n",
            "_________________________________________________________________\n",
            "None\n",
            "Epoch 1/35\n",
            "347/347 [==============================] - 1s 2ms/step - loss: 6.1752 - accuracy: 0.8439 - val_loss: 3.6530 - val_accuracy: 0.8866\n",
            "Epoch 2/35\n",
            "347/347 [==============================] - 1s 2ms/step - loss: 3.1812 - accuracy: 0.8863 - val_loss: 2.8288 - val_accuracy: 0.9004\n",
            "Epoch 3/35\n",
            "347/347 [==============================] - 1s 2ms/step - loss: 2.6099 - accuracy: 0.8950 - val_loss: 5.1251 - val_accuracy: 0.8262\n",
            "Epoch 4/35\n",
            "347/347 [==============================] - 1s 2ms/step - loss: 2.2981 - accuracy: 0.8981 - val_loss: 3.6358 - val_accuracy: 0.8492\n",
            "Epoch 5/35\n",
            "347/347 [==============================] - 1s 2ms/step - loss: 2.0734 - accuracy: 0.8978 - val_loss: 3.7908 - val_accuracy: 0.8552\n",
            "Epoch 6/35\n",
            "347/347 [==============================] - 1s 2ms/step - loss: 1.9311 - accuracy: 0.8999 - val_loss: 2.3883 - val_accuracy: 0.8829\n",
            "Epoch 7/35\n",
            "347/347 [==============================] - 1s 2ms/step - loss: 1.8159 - accuracy: 0.9038 - val_loss: 2.1361 - val_accuracy: 0.8976\n",
            "Epoch 8/35\n",
            "347/347 [==============================] - 1s 2ms/step - loss: 1.7732 - accuracy: 0.9011 - val_loss: 1.9804 - val_accuracy: 0.9142\n",
            "Epoch 9/35\n",
            "347/347 [==============================] - 1s 2ms/step - loss: 1.6899 - accuracy: 0.9061 - val_loss: 1.7806 - val_accuracy: 0.8995\n",
            "Epoch 10/35\n",
            "347/347 [==============================] - 1s 2ms/step - loss: 1.6250 - accuracy: 0.9052 - val_loss: 1.9097 - val_accuracy: 0.8976\n",
            "Epoch 11/35\n",
            "347/347 [==============================] - 1s 3ms/step - loss: 1.6199 - accuracy: 0.9028 - val_loss: 2.0142 - val_accuracy: 0.8963\n",
            "Epoch 12/35\n",
            "347/347 [==============================] - 1s 3ms/step - loss: 1.5993 - accuracy: 0.9040 - val_loss: 1.7482 - val_accuracy: 0.8990\n",
            "Epoch 13/35\n",
            "347/347 [==============================] - 1s 2ms/step - loss: 1.5462 - accuracy: 0.9045 - val_loss: 1.9582 - val_accuracy: 0.8944\n",
            "Epoch 14/35\n",
            "347/347 [==============================] - 1s 2ms/step - loss: 1.5698 - accuracy: 0.9028 - val_loss: 1.8609 - val_accuracy: 0.9018\n",
            "Epoch 15/35\n",
            "347/347 [==============================] - 1s 2ms/step - loss: 1.5185 - accuracy: 0.9019 - val_loss: 1.7168 - val_accuracy: 0.9096\n",
            "Epoch 16/35\n",
            "347/347 [==============================] - 1s 2ms/step - loss: 1.4678 - accuracy: 0.9052 - val_loss: 1.5227 - val_accuracy: 0.9106\n",
            "Epoch 17/35\n",
            "347/347 [==============================] - 1s 2ms/step - loss: 1.5062 - accuracy: 0.9066 - val_loss: 3.2656 - val_accuracy: 0.8188\n",
            "Epoch 18/35\n",
            "347/347 [==============================] - 1s 2ms/step - loss: 1.5320 - accuracy: 0.9051 - val_loss: 2.1945 - val_accuracy: 0.8834\n",
            "Epoch 19/35\n",
            "347/347 [==============================] - 1s 2ms/step - loss: 1.4399 - accuracy: 0.9102 - val_loss: 1.9368 - val_accuracy: 0.9004\n",
            "Epoch 20/35\n",
            "347/347 [==============================] - 1s 2ms/step - loss: 1.4817 - accuracy: 0.9061 - val_loss: 1.6689 - val_accuracy: 0.9050\n",
            "Epoch 21/35\n",
            "347/347 [==============================] - 1s 2ms/step - loss: 1.4442 - accuracy: 0.9100 - val_loss: 1.9518 - val_accuracy: 0.8884\n",
            "Epoch 22/35\n",
            "347/347 [==============================] - 1s 2ms/step - loss: 1.4473 - accuracy: 0.9075 - val_loss: 1.7002 - val_accuracy: 0.9124\n",
            "Epoch 23/35\n",
            "347/347 [==============================] - 1s 2ms/step - loss: 1.4674 - accuracy: 0.9097 - val_loss: 1.6995 - val_accuracy: 0.9027\n",
            "Epoch 24/35\n",
            "347/347 [==============================] - 1s 2ms/step - loss: 1.4573 - accuracy: 0.9064 - val_loss: 1.6016 - val_accuracy: 0.9175\n",
            "Epoch 25/35\n",
            "347/347 [==============================] - 1s 2ms/step - loss: 1.4686 - accuracy: 0.9091 - val_loss: 2.0348 - val_accuracy: 0.9059\n",
            "Epoch 26/35\n",
            "347/347 [==============================] - 1s 2ms/step - loss: 1.4621 - accuracy: 0.9106 - val_loss: 1.7166 - val_accuracy: 0.9046\n",
            "Epoch 27/35\n",
            "347/347 [==============================] - 1s 3ms/step - loss: 1.4104 - accuracy: 0.9093 - val_loss: 1.9908 - val_accuracy: 0.8838\n",
            "Epoch 28/35\n",
            "347/347 [==============================] - 1s 3ms/step - loss: 1.4496 - accuracy: 0.9081 - val_loss: 1.8758 - val_accuracy: 0.9083\n",
            "Epoch 29/35\n",
            "347/347 [==============================] - 1s 2ms/step - loss: 1.4481 - accuracy: 0.9116 - val_loss: 1.8358 - val_accuracy: 0.9023\n",
            "Epoch 30/35\n",
            "347/347 [==============================] - 1s 2ms/step - loss: 1.4714 - accuracy: 0.9098 - val_loss: 1.5443 - val_accuracy: 0.9253\n",
            "Epoch 31/35\n",
            "347/347 [==============================] - 1s 2ms/step - loss: 1.4565 - accuracy: 0.9113 - val_loss: 2.0698 - val_accuracy: 0.8838\n",
            "Epoch 32/35\n",
            "347/347 [==============================] - 1s 2ms/step - loss: 1.4553 - accuracy: 0.9091 - val_loss: 2.4814 - val_accuracy: 0.8792\n",
            "Epoch 33/35\n",
            "347/347 [==============================] - 1s 2ms/step - loss: 1.4100 - accuracy: 0.9131 - val_loss: 1.7448 - val_accuracy: 0.9092\n",
            "Epoch 34/35\n",
            "347/347 [==============================] - 1s 2ms/step - loss: 1.4237 - accuracy: 0.9100 - val_loss: 1.9421 - val_accuracy: 0.9000\n",
            "Epoch 35/35\n",
            "347/347 [==============================] - 1s 2ms/step - loss: 1.4653 - accuracy: 0.9081 - val_loss: 1.9576 - val_accuracy: 0.8944\n",
            "56/56 [==============================] - 0s 1ms/step\n",
            "Matriz de confusión:\n",
            "[[848  44]\n",
            " [126 766]]\n",
            "Precision_1: 0.945679012345679\n",
            "Recall_1: 0.8587443946188341\n",
            "F1-score_1: 0.900117508813161\n",
            "Precision_0: 0.8706365503080082\n",
            "Recall_0: 0.9506726457399103\n",
            "F1-score_0: 0.9088960342979635\n"
          ]
        }
      ]
    }
  ]
}
